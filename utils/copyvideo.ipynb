{
 "cells": [
  {
   "cell_type": "code",
   "execution_count": null,
   "id": "separated-pharmacology",
   "metadata": {},
   "outputs": [],
   "source": [
    "#copy video files\n",
    "\n",
    "import os\n",
    "import pandas as pd\n",
    "import shutil\n",
    "\n",
    "a_path = '/Users/ijaehui/Desktop/testdata/'\n",
    "b_path = '/Users/ijaehui/Desktop/newdata/'\n",
    "\n",
    "for dirpath, dirnames, filenames in os.walk(a_path):\n",
    "    if dirpath != a_path:\n",
    "        for filename in filenames:\n",
    "            if filename != '.DS_Store':\n",
    "                #print(dirpath + '/' + filename)\n",
    "                for dirpath2, dirnames2, filenames2 in os.walk(b_path):\n",
    "                    if dirpath2 != b_path:\n",
    "                        if dirpath.split('/')[-1] == dirpath2.split('/')[-1]:\n",
    "                            shutil.move(dirpath+'/'+filename, dirpath2+'/'+filename)\n",
    "                            print(dirpath+'/'+filename + ':' + dirpath2+'/'+filename)"
   ]
  }
 ],
 "metadata": {
  "kernelspec": {
   "display_name": "Python 3",
   "language": "python",
   "name": "python3"
  },
  "language_info": {
   "codemirror_mode": {
    "name": "ipython",
    "version": 3
   },
   "file_extension": ".py",
   "mimetype": "text/x-python",
   "name": "python",
   "nbconvert_exporter": "python",
   "pygments_lexer": "ipython3",
   "version": "3.9.2"
  }
 },
 "nbformat": 4,
 "nbformat_minor": 5
}
